{
 "cells": [
  {
   "cell_type": "code",
   "execution_count": 1,
   "id": "13454da6",
   "metadata": {},
   "outputs": [
    {
     "name": "stdout",
     "output_type": "stream",
     "text": [
      "✅3개의 이미지를 'output'에 추출했습니다.\n"
     ]
    }
   ],
   "source": [
    "import os\n",
    "import json\n",
    "import base64\n",
    "import random\n",
    "\n",
    "paths = [\"machine_learning.ipynb\", \"overall.ipynb\", \"question.ipynb\"]\n",
    "output_dir = \"output\"\n",
    "os.makedirs(output_dir, exist_ok=True)\n",
    "\n",
    "for path in paths:\n",
    "  with open(path, 'r', encoding='utf-8') as f:\n",
    "    nb = json.load(f)\n",
    "\n",
    "  img_count = 0\n",
    "\n",
    "  for cell in nb['cells']:\n",
    "      if cell['cell_type'] == 'code':\n",
    "          for output in cell.get('outputs', []):\n",
    "              if 'data' in output:\n",
    "                  if 'image/png' in output['data']:\n",
    "                      img_data = output['data']['image/png']\n",
    "                      img_bytes = base64.b64decode(img_data)\n",
    "                      img_path = os.path.join(\n",
    "                          output_dir, f\"image_{random.random()}.png\")\n",
    "                      with open(img_path, 'wb') as img_file:\n",
    "                          img_file.write(img_bytes)\n",
    "                      img_count += 1\n",
    "\n",
    "print(f\"✅{img_count}개의 이미지를 '{output_dir}'에 추출했습니다.\")"
   ]
  }
 ],
 "metadata": {
  "kernelspec": {
   "display_name": "Python 3",
   "language": "python",
   "name": "python3"
  },
  "language_info": {
   "codemirror_mode": {
    "name": "ipython",
    "version": 3
   },
   "file_extension": ".py",
   "mimetype": "text/x-python",
   "name": "python",
   "nbconvert_exporter": "python",
   "pygments_lexer": "ipython3",
   "version": "3.13.2"
  }
 },
 "nbformat": 4,
 "nbformat_minor": 5
}
