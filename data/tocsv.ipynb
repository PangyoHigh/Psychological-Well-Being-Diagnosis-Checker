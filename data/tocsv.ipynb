{
 "cells": [
  {
   "cell_type": "code",
   "execution_count": null,
   "id": "8db986fd",
   "metadata": {},
   "outputs": [
    {
     "ename": "KeyError",
     "evalue": "'students'",
     "output_type": "error",
     "traceback": [
      "\u001b[1;31m---------------------------------------------------------------------------\u001b[0m",
      "\u001b[1;31mKeyError\u001b[0m                                  Traceback (most recent call last)",
      "Cell \u001b[1;32mIn[1], line 13\u001b[0m\n\u001b[0;32m     11\u001b[0m \u001b[38;5;66;03m# Match entries by totalScore and grade\u001b[39;00m\n\u001b[0;32m     12\u001b[0m \u001b[38;5;28;01mfor\u001b[39;00m stat_id, stat_data \u001b[38;5;129;01min\u001b[39;00m data[\u001b[38;5;124m\"\u001b[39m\u001b[38;5;124mstatistics\u001b[39m\u001b[38;5;124m\"\u001b[39m]\u001b[38;5;241m.\u001b[39mitems():\n\u001b[1;32m---> 13\u001b[0m     \u001b[38;5;28;01mfor\u001b[39;00m stu_id, stu_data \u001b[38;5;129;01min\u001b[39;00m \u001b[43mdata\u001b[49m\u001b[43m[\u001b[49m\u001b[38;5;124;43m\"\u001b[39;49m\u001b[38;5;124;43mstudents\u001b[39;49m\u001b[38;5;124;43m\"\u001b[39;49m\u001b[43m]\u001b[49m\u001b[38;5;241m.\u001b[39mitems():\n\u001b[0;32m     14\u001b[0m         \u001b[38;5;28;01mif\u001b[39;00m (stat_data[\u001b[38;5;124m\"\u001b[39m\u001b[38;5;124mgrade\u001b[39m\u001b[38;5;124m\"\u001b[39m] \u001b[38;5;241m==\u001b[39m stu_data[\u001b[38;5;124m\"\u001b[39m\u001b[38;5;124mstudentGrade\u001b[39m\u001b[38;5;124m\"\u001b[39m] \u001b[38;5;129;01mand\u001b[39;00m\n\u001b[0;32m     15\u001b[0m             stat_data[\u001b[38;5;124m\"\u001b[39m\u001b[38;5;124mtotalScore\u001b[39m\u001b[38;5;124m\"\u001b[39m] \u001b[38;5;241m==\u001b[39m stu_data[\u001b[38;5;124m\"\u001b[39m\u001b[38;5;124mtotalScore\u001b[39m\u001b[38;5;124m\"\u001b[39m] \u001b[38;5;129;01mand\u001b[39;00m\n\u001b[0;32m     16\u001b[0m                 stat_data[\u001b[38;5;124m\"\u001b[39m\u001b[38;5;124mscores\u001b[39m\u001b[38;5;124m\"\u001b[39m] \u001b[38;5;241m==\u001b[39m stu_data[\u001b[38;5;124m\"\u001b[39m\u001b[38;5;124mscores\u001b[39m\u001b[38;5;124m\"\u001b[39m]):\n\u001b[0;32m     18\u001b[0m             row \u001b[38;5;241m=\u001b[39m {\n\u001b[0;32m     19\u001b[0m                 \u001b[38;5;124m\"\u001b[39m\u001b[38;5;124mGender\u001b[39m\u001b[38;5;124m\"\u001b[39m: stat_data\u001b[38;5;241m.\u001b[39mget(\u001b[38;5;124m\"\u001b[39m\u001b[38;5;124mgender\u001b[39m\u001b[38;5;124m\"\u001b[39m),\n\u001b[0;32m     20\u001b[0m                 \u001b[38;5;124m\"\u001b[39m\u001b[38;5;124mGrade\u001b[39m\u001b[38;5;124m\"\u001b[39m: stat_data\u001b[38;5;241m.\u001b[39mget(\u001b[38;5;124m\"\u001b[39m\u001b[38;5;124mgrade\u001b[39m\u001b[38;5;124m\"\u001b[39m),\n\u001b[0;32m     21\u001b[0m                 \u001b[38;5;124m\"\u001b[39m\u001b[38;5;124mTotalScore\u001b[39m\u001b[38;5;124m\"\u001b[39m: stat_data\u001b[38;5;241m.\u001b[39mget(\u001b[38;5;124m\"\u001b[39m\u001b[38;5;124mtotalScore\u001b[39m\u001b[38;5;124m\"\u001b[39m)\n\u001b[0;32m     22\u001b[0m             }\n",
      "\u001b[1;31mKeyError\u001b[0m: 'students'"
     ]
    }
   ],
   "source": [
    "import koreanize_matplotlib\n",
    "import pandas as pd\n",
    "import matplotlib.pyplot as plt\n",
    "import json\n",
    "file = open('data.json', 'r', encoding='utf-8')\n",
    "data = json.load(file)\n",
    "\n",
    "# Parse personal data\n",
    "combined_rows = []\n",
    "\n",
    "# Match entries by totalScore and grade\n",
    "for stat_id, stat_data in data[\"statistics\"].items():\n",
    "    for stu_id, stu_data in data[\"students\"].items():\n",
    "        if (stat_data[\"grade\"] == stu_data[\"studentGrade\"] and\n",
    "            stat_data[\"totalScore\"] == stu_data[\"totalScore\"] and\n",
    "                stat_data[\"scores\"] == stu_data[\"scores\"]):\n",
    "\n",
    "            row = {\n",
    "                \"Gender\": stat_data.get(\"gender\"),\n",
    "                \"Grade\": stat_data.get(\"grade\"),\n",
    "                \"TotalScore\": stat_data.get(\"totalScore\")\n",
    "            }\n",
    "            # Include category scores\n",
    "            row.update(stat_data[\"scores\"])\n",
    "            combined_rows.append(row)\n",
    "            break\n",
    "\n",
    "# Convert to DataFrame\n",
    "df_combined = pd.DataFrame(combined_rows)\n",
    "\n",
    "# Print final table\n",
    "print(df_combined.to_string(index=False))\n",
    "df_combined.to_csv('combined_data.csv', index=False, encoding='utf-8-sig')\n",
    "\n"
   ]
  },
  {
   "cell_type": "code",
   "execution_count": 8,
   "id": "3d0fe063",
   "metadata": {},
   "outputs": [
    {
     "name": "stdout",
     "output_type": "stream",
     "text": [
      "  Gender Grade  TotalScore  불안 및 우울 문제  심리외상 문제  외현화 문제  자살 및 위기 문제  학교생활적응 문제\n",
      "0   girl   2학년          80          24       14       9          18         15\n",
      "1   girl   1학년           0           0        0       0           0          0\n",
      "2    boy   2학년           4           0        0       2           0          2\n",
      "3   girl   2학년           7           6        0       0           0          1\n",
      "4    boy   1학년          19           9        4       3           0          3\n"
     ]
    }
   ],
   "source": [
    "import pandas as pd\n",
    "\n",
    "# 쉼표 구분\n",
    "df_comma = pd.read_csv('data.csv', delimiter=',')\n",
    "print(df_comma.head())\n",
    "\n",
    "# 탭 구분\n",
    "df_tab = pd.read_csv('data.csv', delimiter='\\t')\n",
    "\n",
    "# 공백 구분\n",
    "df_space = pd.read_csv('data.csv', delimiter=' ')\n",
    "\n",
    "# 콜론 구분\n",
    "df_colon = pd.read_csv('data.csv', delimiter=':')\n",
    "\n",
    "# 세미콜론 구분\n",
    "df_semicolon = pd.read_csv('data.csv', delimiter=';')"
   ]
  }
 ],
 "metadata": {
  "kernelspec": {
   "display_name": "Python 3",
   "language": "python",
   "name": "python3"
  },
  "language_info": {
   "codemirror_mode": {
    "name": "ipython",
    "version": 3
   },
   "file_extension": ".py",
   "mimetype": "text/x-python",
   "name": "python",
   "nbconvert_exporter": "python",
   "pygments_lexer": "ipython3",
   "version": "3.13.2"
  }
 },
 "nbformat": 4,
 "nbformat_minor": 5
}
